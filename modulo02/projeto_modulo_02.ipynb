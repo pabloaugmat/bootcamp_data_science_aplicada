{
 "cells": [
  {
   "cell_type": "markdown",
   "source": [
    "<img src='/home/pabloaugmat/bootcamp_data_science_aplicada/modulo02/bootcamp_capa.png'>\n"
   ],
   "metadata": {}
  },
  {
   "cell_type": "markdown",
   "source": [
    "# Cobertura vacinal: Sarampo, Caxumba e Rubéola"
   ],
   "metadata": {}
  },
  {
   "cell_type": "markdown",
   "source": [
    "## Todas crianças com **12 meses** devem receber a primeira dose da vacina **TRÍPLICE VIRAL** e a segunda dose aos **15 meses**, esta podendo ser a **TETRA VIRAL(SCR+V)** ou a **TRÍPLICE VIRAL** junto da **VARICELA MONOVALENTE**. Caso não receba as duas doses até o **5 anos**, a pessoa deverá receber as doses faltantes da **TRÍPLICE VIRAL**  até os **29 anos** e uma dose até os **59 anos**.(*Profissionais da saúde devem receber duas doses independente da idade*)"
   ],
   "metadata": {}
  },
  {
   "cell_type": "markdown",
   "source": [
    "# Bibliografia"
   ],
   "metadata": {}
  },
  {
   "cell_type": "markdown",
   "source": [],
   "metadata": {}
  }
 ],
 "metadata": {
  "orig_nbformat": 4,
  "language_info": {
   "name": "python"
  }
 },
 "nbformat": 4,
 "nbformat_minor": 2
}